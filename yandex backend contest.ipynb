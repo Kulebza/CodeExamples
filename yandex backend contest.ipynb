{
 "cells": [
  {
   "cell_type": "markdown",
   "id": "5d80e40a",
   "metadata": {},
   "source": [
    "## Задача 1"
   ]
  },
  {
   "cell_type": "code",
   "execution_count": null,
   "id": "5b9603c6",
   "metadata": {},
   "outputs": [],
   "source": [
    "import string\n",
    "import time\n",
    "#ванино\n",
    "\n",
    "str_1 = input()\n",
    "str_2 = input()\n",
    "\n",
    "start_time = time.time()\n",
    "is_in_str_1 = dict(zip(list(string.ascii_uppercase), [0]*27))\n",
    "for char in str_1:\n",
    "    is_in_str_1[char] += 1\n",
    "\n",
    "n = len(str_1)\n",
    "ans = ['I']*n\n",
    "\n",
    "for i in range(n):\n",
    "    if str_1[i] == str_2[i]:\n",
    "        ans[i] = 'P'\n",
    "        is_in_str_1[str_2[i]] -= 1\n",
    "\n",
    "for i in range(n):\n",
    "    if is_in_str_1[str_2[i]] > 0 and  str_1[i] != str_2[i]:\n",
    "        ans[i] = 'S'\n",
    "        is_in_str_1[str_2[i]] =- 1\n",
    "\n",
    "\n",
    "ans = ''.join(ans)\n",
    "print(ans)\n",
    "print(\"--- %s seconds ---\" % (time.time() - start_time))"
   ]
  },
  {
   "cell_type": "code",
   "execution_count": null,
   "id": "fa456bc3",
   "metadata": {},
   "outputs": [],
   "source": [
    "     "
   ]
  },
  {
   "cell_type": "code",
   "execution_count": 91,
   "id": "904bd265",
   "metadata": {},
   "outputs": [
    {
     "name": "stdout",
     "output_type": "stream",
     "text": [
      "CLOUD\n",
      "CUPID\n",
      "PIIIP\n"
     ]
    }
   ],
   "source": [
    "alice_str = input()\n",
    "zeliboba_str = input()\n",
    "\n",
    "n = len(alice_str)\n",
    "output = ['I']*len(alice_str)    \n",
    "\n",
    "letters_dic = {}\n",
    "for i in range(n):\n",
    "    letter = alice_str[i]\n",
    "    if letter not in letters_dic:          \n",
    "        letters_dic[letter] = 1\n",
    "    else:\n",
    "        letters_dic[letter] += 1\n",
    "        \n",
    "for i in range(n):\n",
    "    current = zeliboba_str[i]        \n",
    "    if(alice_str[i]) == current:\n",
    "        output[i] = 'P'\n",
    "        letters_dic[current] -= 1\n",
    "for i in range(n):        \n",
    "    if current in letters_dic and letters_dic[current] > 0 and alice_str[i] != current:\n",
    "        output[i] = 'S'\n",
    "        letters_dic[current] -= 1\n",
    "print(''.join(output)) "
   ]
  },
  {
   "cell_type": "markdown",
   "id": "d5a55e7b",
   "metadata": {},
   "source": [
    "## задача 2"
   ]
  },
  {
   "cell_type": "code",
   "execution_count": 62,
   "id": "2c31d925",
   "metadata": {},
   "outputs": [
    {
     "name": "stdout",
     "output_type": "stream",
     "text": [
      "anonymous\n",
      "bill_gates\n",
      "bjarne_stroustrup\n",
      "guccifer\n",
      "julian_assange\n"
     ]
    }
   ],
   "source": [
    "\n",
    "ans = {}\n",
    "\n",
    "with open('input.txt', 'r') as s:\n",
    "    disciplines_count = int(s.readline())\n",
    "    disciplines = {}\n",
    "\n",
    "    for i in range(0, disciplines_count):\n",
    "        d_name, d_value = s.readline().split(',')\n",
    "        disciplines[d_name] = int(d_value)\n",
    "\n",
    "    participants_count = int(s.readline())\n",
    "    participants = [None]*participants_count\n",
    "\n",
    "    for i in range(0, participants_count):\n",
    "        participant = {}\n",
    "        p_name, p_discipline, score, fine = s.readline().split(',')\n",
    "        participant[0] = p_name\n",
    "        participant[1] = p_discipline\n",
    "        participant[2] = int(score)\n",
    "        participant[3] = int(fine)    \n",
    "        participants[i] = participant\n",
    "        \n",
    "for d in disciplines:\n",
    "    d_place = disciplines[d]    \n",
    "    p_d = [ i for i in participants if i[1] == d]\n",
    "    len_pd = len(p_d)\n",
    "    _sorted = [ i[0] for i in sorted(p_d, key=lambda x: (-x[2],x[3]))]\n",
    "    count = len_pd - d_place\n",
    "    if len_pd > d_place:\n",
    "        _sorted = _sorted[:-count:]\n",
    "    for pp in _sorted:\n",
    "        ans[pp] = 0\n",
    "print('\\n'.join(sorted(ans)))"
   ]
  },
  {
   "cell_type": "code",
   "execution_count": null,
   "id": "906e00d3",
   "metadata": {},
   "outputs": [],
   "source": [
    "ans = []\n",
    "\n",
    "with open('input.txt', 'r') as s:\n",
    "    disciplines_count = int(s.readline())\n",
    "    disciplines = {}\n",
    "\n",
    "    for i in range(0, disciplines_count):\n",
    "        d_name, d_value = s.readline().split(',')\n",
    "        disciplines[d_name] = int(d_value)\n",
    "\n",
    "    participants_count = int(s.readline())\n",
    "    participants = [None]*participants_count\n",
    "\n",
    "    for i in range(0, participants_count):\n",
    "        participant = {}\n",
    "        p_name, p_discipline, score, fine = s.readline().split(',')\n",
    "        participant[\"name\"] = p_name\n",
    "        participant[\"discipline\"] = p_discipline\n",
    "        participant[\"score\"] = int(score)\n",
    "        participant[\"fine\"] = int(fine)    \n",
    "        participants[i] = participant\n",
    "        \n",
    "for d in disciplines:\n",
    "    p = [ i for i in participants if i[\"discipline\"] == d]\n",
    "    p = [ i[\"name\"] for i in sorted(p, key=lambda x: (x[\"score\"],x[\"fine\"]), reverse=True)]\n",
    "    count = len(p) - disciplines[d]\n",
    "    if len(p) > disciplines[d]:\n",
    "        p = p[:-count:]\n",
    "    ans = ans + p\n",
    "print('\\n'.join(sorted(ans)))"
   ]
  },
  {
   "cell_type": "markdown",
   "id": "4c496db2",
   "metadata": {},
   "source": [
    "## Задача 3"
   ]
  },
  {
   "cell_type": "code",
   "execution_count": 3,
   "id": "6ef1ccac",
   "metadata": {},
   "outputs": [
    {
     "name": "stdout",
     "output_type": "stream",
     "text": [
      "1\n",
      "False\n",
      "True\n",
      "False\n",
      "False\n",
      "True\n",
      "___________________________/n\n",
      "3\n",
      "True\n",
      "False\n",
      "True\n",
      "False\n",
      "False\n",
      "___________________________/n\n",
      "5\n",
      "False\n",
      "False\n",
      "False\n",
      "False\n",
      "False\n",
      "___________________________/n\n",
      "2\n",
      "False\n",
      "False\n",
      "False\n",
      "False\n",
      "False\n",
      "___________________________/n\n",
      "4\n",
      "False\n",
      "False\n",
      "False\n",
      "False\n",
      "True\n",
      "___________________________/n\n",
      "[{\"name\": \"EaRPoDs\", \"id\": 2, \"date\": \"01.01.2022\", \"price\": 2200}, {\"date\": \"23.09.2021\", \"name\": \"Airpods\", \"id\": 5, \"price\": 2300}]\n"
     ]
    }
   ],
   "source": [
    "import json\n",
    "from datetime import datetime\n",
    "\n",
    "name_contains = \"NAME_CONTAINS\"\n",
    "date_before = \"DATE_BEFORE\"\n",
    "date_after = \"DATE_AFTER\"\n",
    "price_less_than = \"PRICE_LESS_THAN\"\n",
    "price_greater_than = \"PRICE_GREATER_THAN\"\n",
    "\n",
    "_filter = {}\n",
    "\n",
    "f = open('input.txt', 'r')\n",
    "data = json.loads(f.readline())\n",
    "for _ in range(0,5):\n",
    "    f_name, f_value = f.readline().split()\n",
    "    _filter[f_name] = f_value\n",
    "f.close()\n",
    "output = []\n",
    "\n",
    "for row in data:\n",
    "    _id, name, price, date = row[\"id\"], row[\"name\"], row[\"price\"], row[\"date\"]\n",
    "    dt_obj = datetime.strptime(date, '%d.%m.%Y')\n",
    "    dt_before = datetime.strptime(_filter[date_before], '%d.%m.%Y')\n",
    "    dt_after = datetime.strptime(_filter[date_after], '%d.%m.%Y')\n",
    "\n",
    "    if (price <= int(_filter[price_less_than]) and price >= int(_filter[price_greater_than])\n",
    "    and dt_obj >= dt_after and dt_obj <= dt_before and _filter[name_contains].lower() in name.lower()):            \n",
    "        output.append(row)\n",
    "\n",
    "output.sort(key=lambda x: x[\"id\"])\n",
    "\n",
    "print(json.dumps(output))"
   ]
  },
  {
   "cell_type": "code",
   "execution_count": null,
   "id": "beb52cd0",
   "metadata": {},
   "outputs": [],
   "source": [
    "from datetime import datetime\n",
    "import json\n",
    "\n",
    "row = {\"price\": 2500, \"id\": 3, \"date\": \"05.06.2020\", \"name\": \"Keyboardpods\"}\n",
    "\n",
    "_id, name, price, date = row[\"id\"], row[\"name\"], row[\"price\"], row[\"date\"]\n",
    "dt_obj = datetime.strptime(date, '%d.%m.%Y')\n",
    "dt_before = datetime.strptime('02.01.2022', '%d.%m.%Y')\n",
    "dt_after = datetime.strptime('23.09.2021', '%d.%m.%Y')\n",
    "\n",
    "print(price > 2400)\n",
    "print(price < 2200)\n",
    "print( dt_obj < dt_after) \n",
    "print(dt_obj > dt_before )\n",
    "print('pods' not in name.lower())\n",
    "\n",
    "print(price > 2400 or price < 2200 or dt_obj < dt_after or dt_obj > dt_before or 'pods' not in name.lower())\n"
   ]
  },
  {
   "cell_type": "markdown",
   "id": "88c3855a",
   "metadata": {},
   "source": [
    "## Задача 4"
   ]
  },
  {
   "cell_type": "code",
   "execution_count": 1,
   "id": "7f649137",
   "metadata": {},
   "outputs": [
    {
     "name": "stdout",
     "output_type": "stream",
     "text": [
      "2 3\n"
     ]
    },
    {
     "ename": "IndexError",
     "evalue": "list index out of range",
     "output_type": "error",
     "traceback": [
      "\u001b[1;31m---------------------------------------------------------------------------\u001b[0m",
      "\u001b[1;31mIndexError\u001b[0m                                Traceback (most recent call last)",
      "\u001b[1;32m~\\AppData\\Local\\Temp/ipykernel_26352/1259291351.py\u001b[0m in \u001b[0;36m<module>\u001b[1;34m\u001b[0m\n\u001b[0;32m     38\u001b[0m \u001b[0mpoints\u001b[0m \u001b[1;33m=\u001b[0m \u001b[1;33m[\u001b[0m\u001b[1;33m(\u001b[0m\u001b[0ms_x\u001b[0m\u001b[1;33m,\u001b[0m \u001b[0ms_y\u001b[0m\u001b[1;33m)\u001b[0m\u001b[1;33m]\u001b[0m\u001b[1;33m\u001b[0m\u001b[1;33m\u001b[0m\u001b[0m\n\u001b[0;32m     39\u001b[0m \u001b[1;32mwhile\u001b[0m \u001b[0mpoints\u001b[0m \u001b[1;33m!=\u001b[0m \u001b[1;33m[\u001b[0m\u001b[1;33m]\u001b[0m\u001b[1;33m:\u001b[0m\u001b[1;33m\u001b[0m\u001b[1;33m\u001b[0m\u001b[0m\n\u001b[1;32m---> 40\u001b[1;33m     \u001b[0mcalculate_step\u001b[0m\u001b[1;33m(\u001b[0m\u001b[0mpoints\u001b[0m\u001b[1;33m[\u001b[0m\u001b[1;36m0\u001b[0m\u001b[1;33m]\u001b[0m\u001b[1;33m[\u001b[0m\u001b[1;36m0\u001b[0m\u001b[1;33m]\u001b[0m\u001b[1;33m,\u001b[0m \u001b[0mpoints\u001b[0m\u001b[1;33m[\u001b[0m\u001b[1;36m0\u001b[0m\u001b[1;33m]\u001b[0m\u001b[1;33m[\u001b[0m\u001b[1;36m1\u001b[0m\u001b[1;33m]\u001b[0m\u001b[1;33m)\u001b[0m\u001b[1;33m\u001b[0m\u001b[1;33m\u001b[0m\u001b[0m\n\u001b[0m\u001b[0;32m     41\u001b[0m \u001b[1;33m\u001b[0m\u001b[0m\n\u001b[0;32m     42\u001b[0m \u001b[1;32mfor\u001b[0m \u001b[0mrow\u001b[0m \u001b[1;32min\u001b[0m \u001b[0mexit_map\u001b[0m\u001b[1;33m:\u001b[0m\u001b[1;33m\u001b[0m\u001b[1;33m\u001b[0m\u001b[0m\n",
      "\u001b[1;32m~\\AppData\\Local\\Temp/ipykernel_26352/1259291351.py\u001b[0m in \u001b[0;36mcalculate_step\u001b[1;34m(i, j)\u001b[0m\n\u001b[0;32m      4\u001b[0m         \u001b[1;31m#up\u001b[0m\u001b[1;33m\u001b[0m\u001b[1;33m\u001b[0m\u001b[0m\n\u001b[0;32m      5\u001b[0m         \u001b[0mexit_map\u001b[0m\u001b[1;33m[\u001b[0m\u001b[0mi\u001b[0m\u001b[1;33m-\u001b[0m\u001b[1;36m1\u001b[0m\u001b[1;33m]\u001b[0m\u001b[1;33m[\u001b[0m\u001b[0mj\u001b[0m\u001b[1;33m]\u001b[0m \u001b[1;33m=\u001b[0m \u001b[1;34m'D'\u001b[0m\u001b[1;33m\u001b[0m\u001b[1;33m\u001b[0m\u001b[0m\n\u001b[1;32m----> 6\u001b[1;33m         \u001b[0mpoints\u001b[0m\u001b[1;33m.\u001b[0m\u001b[0mappend\u001b[0m\u001b[1;33m(\u001b[0m\u001b[1;33m[\u001b[0m\u001b[0mi\u001b[0m\u001b[1;33m-\u001b[0m\u001b[1;36m1\u001b[0m\u001b[1;33m]\u001b[0m\u001b[1;33m[\u001b[0m\u001b[0mj\u001b[0m\u001b[1;33m]\u001b[0m\u001b[1;33m)\u001b[0m\u001b[1;33m\u001b[0m\u001b[1;33m\u001b[0m\u001b[0m\n\u001b[0m\u001b[0;32m      7\u001b[0m     \u001b[1;32mif\u001b[0m \u001b[0mi\u001b[0m \u001b[1;33m+\u001b[0m \u001b[1;36m1\u001b[0m \u001b[1;33m<=\u001b[0m \u001b[0mx\u001b[0m\u001b[1;33m-\u001b[0m\u001b[1;36m1\u001b[0m \u001b[1;32mand\u001b[0m \u001b[0mexit_map\u001b[0m\u001b[1;33m[\u001b[0m\u001b[0mi\u001b[0m\u001b[1;33m+\u001b[0m\u001b[1;36m1\u001b[0m\u001b[1;33m]\u001b[0m\u001b[1;33m[\u001b[0m\u001b[0mj\u001b[0m\u001b[1;33m]\u001b[0m \u001b[1;33m==\u001b[0m \u001b[1;34m'.'\u001b[0m\u001b[1;33m:\u001b[0m\u001b[1;33m\u001b[0m\u001b[1;33m\u001b[0m\u001b[0m\n\u001b[0;32m      8\u001b[0m         \u001b[1;31m#down\u001b[0m\u001b[1;33m\u001b[0m\u001b[1;33m\u001b[0m\u001b[0m\n",
      "\u001b[1;31mIndexError\u001b[0m: list index out of range"
     ]
    }
   ],
   "source": [
    "   \n",
    "def calculate_step(i, j):\n",
    "    print(i, j)\n",
    "    if i - 1 >= 1 and exit_map[i-1][j] == '.':\n",
    "        #up\n",
    "        exit_map[i-1][j] = 'D'\n",
    "        points.append([i-1][j])\n",
    "    if i + 1 <= x-1 and exit_map[i+1][j] == '.':\n",
    "        #down\n",
    "        exit_map[i+1][j] = 'U'\n",
    "        points.append([i+1][j])\n",
    "    if j - 1 >= 1 and exit_map[i][j-1] == '.':\n",
    "        #left\n",
    "        exit_map[i][j-1] = 'R'\n",
    "        points.append([i][j-1] )\n",
    "    if j + 1 <= y-1 and exit_map[i][j+1] == '.':\n",
    "        #right\n",
    "        exit_map[i][j+1] = 'L'\n",
    "        points.append([i][j+1])\n",
    "    points.pop(0)\n",
    "    return\n",
    "\n",
    "\n",
    "s_x = 0\n",
    "s_y = 0\n",
    "with open('input.txt', 'r') as f:          \n",
    "    x,y = map(int, f.readline().split())\n",
    "    exit_map = [None] * x\n",
    "\n",
    "    for i in range(0, x):\n",
    "        row = f.readline().strip()\n",
    "        if i != 0 or i != x-1:\n",
    "            s = row.find('S', 1, y-1)\n",
    "            if s != -1:\n",
    "                s_x = i\n",
    "                s_y = s\n",
    "        exit_map[i] = list(row)            \n",
    "\n",
    "points = [(s_x, s_y)]\n",
    "while points != []:\n",
    "    calculate_step(points[0][0], points[0][1])\n",
    "    \n",
    "for row in exit_map:\n",
    "    print(''.join(row))\n"
   ]
  },
  {
   "cell_type": "markdown",
   "id": "4b7b406c",
   "metadata": {},
   "source": [
    "## Задача 5"
   ]
  },
  {
   "cell_type": "code",
   "execution_count": 87,
   "id": "8f3e7ca0",
   "metadata": {},
   "outputs": [
    {
     "name": "stdout",
     "output_type": "stream",
     "text": [
      "0\n",
      "0\n",
      "-1\n",
      "3\n",
      "-1\n",
      "1\n"
     ]
    }
   ],
   "source": [
    "\n",
    "def do(input_str):\n",
    "    res_str = ''.join([input_str[i] for i in range(len(input_str)) if input_str[i] in '{}']) \n",
    "    if len(res_str) == 0:\n",
    "        return -1\n",
    "    stack = []\n",
    "    brackets = 0\n",
    "    index = -1\n",
    "    for i in range(0, len(res_str)):\n",
    "        letter = res_str[i]\n",
    "        if letter == '{':\n",
    "            stack.append(letter)\n",
    "            if index == -1:\n",
    "                index = i\n",
    "        if letter == '}':\n",
    "            if stack == []:\n",
    "                brackets -= 1\n",
    "                index = i\n",
    "                continue\n",
    "            stack.pop()\n",
    "            index = -1   \n",
    "            \n",
    "    if len(stack) == 1 and brackets == 0:\n",
    "        if index >= 0:\n",
    "            return index +1\n",
    "        else:\n",
    "            return input_str.find(stack.pop())+1\n",
    "    elif brackets == -1 and stack == []:\n",
    "        return input_str.find('}')+1\n",
    "    else:\n",
    "        return -1\n",
    "\n",
    "f = open('input.txt', 'r')\n",
    "input_str = f.readline()\n",
    "f.close()\n",
    "ans = do(input_str)\n",
    "print(ans)"
   ]
  },
  {
   "cell_type": "code",
   "execution_count": 63,
   "id": "48a9823e",
   "metadata": {},
   "outputs": [
    {
     "name": "stdout",
     "output_type": "stream",
     "text": [
      "-1\n"
     ]
    }
   ],
   "source": [
    "b = 0\n",
    "b -= 1\n",
    "print(b)"
   ]
  }
 ],
 "metadata": {
  "kernelspec": {
   "display_name": "Python 3 (ipykernel)",
   "language": "python",
   "name": "python3"
  },
  "language_info": {
   "codemirror_mode": {
    "name": "ipython",
    "version": 3
   },
   "file_extension": ".py",
   "mimetype": "text/x-python",
   "name": "python",
   "nbconvert_exporter": "python",
   "pygments_lexer": "ipython3",
   "version": "3.9.7"
  }
 },
 "nbformat": 4,
 "nbformat_minor": 5
}
