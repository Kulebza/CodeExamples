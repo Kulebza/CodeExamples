{
 "cells": [
  {
   "cell_type": "code",
   "execution_count": null,
   "id": "722cc337",
   "metadata": {},
   "outputs": [],
   "source": [
    "import time\n",
    "from random import randint\n",
    "\n",
    "def f():\n",
    "    mix_count = 0\n",
    "    start_time = time.time()\n",
    "    word = input()\n",
    "    #print(len(word))\n",
    "    for i in range(len(word)-1):\n",
    "        if(word[i] != word[i+1]):\n",
    "            mix_count += 1      \n",
    "    print(mix_count)    \n",
    "    print(\"--- %s seconds ---\" % (time.time() - start_time))\n",
    "    \n",
    "#def inc(str word):\n",
    "    \n",
    "\n",
    "from memory_profiler import memory_usage\n",
    "mem_usage = memory_usage(f)[0]\n",
    "print(mem_usage)"
   ]
  },
  {
   "cell_type": "code",
   "execution_count": 24,
   "id": "01980739",
   "metadata": {},
   "outputs": [
    {
     "name": "stdout",
     "output_type": "stream",
     "text": [
      "загадка\n",
      "акдагаз\n"
     ]
    }
   ],
   "source": [
    "word = input()\n",
    "print(word[::-1])"
   ]
  },
  {
   "cell_type": "code",
   "execution_count": 25,
   "id": "f41099b1",
   "metadata": {},
   "outputs": [
    {
     "name": "stdout",
     "output_type": "stream",
     "text": [
      "яблоко\n",
      "33\n",
      "е\n",
      "ж\n",
      "с\n",
      "ф\n",
      "р\n",
      "ф\n",
      "ежсфрф\n"
     ]
    }
   ],
   "source": [
    "alph = 'абвгдеёжзийклмнопрстуфхцчшщъыьэюя'\n",
    "word = input()\n",
    "output = ''\n",
    "print(len(alph))\n",
    "for i in word:\n",
    "    if i == ' ':\n",
    "        output += i \n",
    "        continue\n",
    "    index = alph.index(i) + 6\n",
    "    if index > len(alph):\n",
    "        index = index - len(alph) \n",
    "    print(alph[index])\n",
    "    output += alph[index]\n",
    "print(output)"
   ]
  },
  {
   "cell_type": "markdown",
   "id": "0a83e5bb",
   "metadata": {},
   "source": [
    "Никита очень любит лимонад из Черноголовки. Во время перерыва в занятии он решил купить\n",
    "немного своего любимого напитка. Никита знает, что в магазине лимонад продаётся в бутылках по\n",
    "0.25, 0.5, 1 и 2 литра, которые стоят a, b, c, d рублей соответственно. Никита хочет купить ровно n\n",
    "литров лимонада, потратив при этом как можно меньше денег. Во сколько рублей Никите обойдётся\n",
    "покупка?\n"
   ]
  },
  {
   "cell_type": "code",
   "execution_count": 10,
   "id": "749fac88",
   "metadata": {},
   "outputs": [
    {
     "name": "stdout",
     "output_type": "stream",
     "text": [
      "1 2 3 4\n",
      "3\n",
      "7\n"
     ]
    }
   ],
   "source": [
    "otvet=0\n",
    "#В первой строке входных данных вводится четыре целых положительных числа a, b, c, d  —\n",
    "#стоимости бутылок лимонада по 0.25, 0.5, 1, 2 литра соответственно\n",
    "p = input()\n",
    "b0_25, b0_5, b1, b2 = map(int, p.split())\n",
    "\n",
    "#Во второй строке входных данных вводится единственное целое положительное число n\n",
    "#— количество литров лимонада, которое хочет купить Никита.\n",
    "lit=int(input())\n",
    "\n",
    "min1 = b0_25*4 #цена за литр\n",
    "if b0_5*2 < min1:\n",
    "    min1 = b0_5*2\n",
    "if b1 < min1:\n",
    "    min1 = b1\n",
    "    \n",
    "if b2/2 < min1:\n",
    "    otvet = (lit//2)*b2 + (lit%2)*min1\n",
    "else:\n",
    "    otvet = min1*lit\n",
    "print(int(otvet))"
   ]
  },
  {
   "cell_type": "code",
   "execution_count": 2,
   "id": "5358c2e4",
   "metadata": {},
   "outputs": [
    {
     "name": "stdout",
     "output_type": "stream",
     "text": [
      "1 2 3 4\n",
      "3\n",
      "1\n",
      "2\n",
      "minchet 4.0\n",
      "nechet 3\n",
      "7\n"
     ]
    }
   ],
   "source": [
    "sin=input()\n",
    "lit=int(input())\n",
    "a, b, c, d = map(int, sin.split())\n",
    "\n",
    "mn = min(a*4, b*2, c)\n",
    "\n",
    "nech = lit%2\n",
    "chet=lit-lit%2\n",
    "print(int(chet*minimum_chet+nech*minimum_nech))"
   ]
  },
  {
   "cell_type": "code",
   "execution_count": 2,
   "id": "e8d185d1",
   "metadata": {},
   "outputs": [
    {
     "name": "stdout",
     "output_type": "stream",
     "text": [
      "1 2 3 4\n",
      "3\n",
      "7\n"
     ]
    }
   ],
   "source": [
    "#В первой строке входных данных вводится четыре целых положительных числа a, b, c, d  —\n",
    "#стоимости бутылок лимонада по 0.25, 0.5, 1, 2 литра соответственно\n",
    "p = input()\n",
    "v0_25, v0_5, v1, v2 = map(int, p.split())\n",
    "\n",
    "#Во второй строке входных данных вводится единственное целое положительное число n\n",
    "#— количество литров лимонада, которое хочет купить Никита.\n",
    "v=int(input())\n",
    "\n",
    "min1 = v0_25*4 #цена за литр\n",
    "if v0_5*2 < min1:\n",
    "    min1 = v0_5*2\n",
    "if v1 < min1:\n",
    "    min1 = v1\n",
    "\n",
    "#min2=min1\n",
    "if v2/2 < min1: \n",
    "    #otvet = int(((v-(v%2)))*v2/2) + (v%2)*min1\n",
    "    otvet = int(((v-(v%2))/2))*v2 + (v%2)*min1\n",
    "    #otvet = (v//2)*v2 + (v%2)*min1\n",
    "else:\n",
    "    otvet = v*min1\n",
    "\n",
    "print(int(otvet))\n"
   ]
  },
  {
   "cell_type": "code",
   "execution_count": 6,
   "id": "6bc173cd",
   "metadata": {},
   "outputs": [
    {
     "name": "stdout",
     "output_type": "stream",
     "text": [
      "qqweq\n",
      "qweqq\n"
     ]
    }
   ],
   "source": [
    "wer=''\n",
    "sto=input() + '!'\n",
    "otvet=''\n",
    "t=0\n",
    "wer1=''\n",
    "for i in sto:\n",
    "    if i == '!' or i == '?' or i == ' ' or i == ':' or i == ';' or i == '-' or i == '.' or i == ',':        \n",
    "        if len(wer)<=3 and len(wer)>0:\n",
    "            otvet=otvet+wer+i\n",
    "            wer=''\n",
    "        else:\n",
    "            for r in wer:\n",
    "                if t==0:\n",
    "                    b1=''\n",
    "                    wer1+=r\n",
    "                    \n",
    "                elif t == len(wer)-1:\n",
    "                    wer1+=r \n",
    "                    \n",
    "                else:\n",
    "                    if t%2!=0:\n",
    "                        b1=r\n",
    "                        if t==len(wer)-2:\n",
    "                            wer1+=b1+b2\n",
    "                        \n",
    "                    elif t%2 == 0:\n",
    "                        if t==len(wer)-3:\n",
    "                            b2=b1\n",
    "                            wer1+=r\n",
    "                        else: \n",
    "                            wer1 = wer1+r+b1\n",
    "                        \n",
    "                t+=1\n",
    "            wer=wer1\n",
    "            otvet=otvet + wer + i\n",
    "            wer=''\n",
    "            wer1=''\n",
    "            t=0\n",
    "    else:\n",
    "        wer=(wer+i)\n",
    "otvet=otvet\n",
    "zxc=''\n",
    "for i in (otvet):\n",
    "    if len(zxc) == (len(otvet)-1):\n",
    "        break\n",
    "    zxc+=i\n",
    "print(zxc)"
   ]
  },
  {
   "cell_type": "code",
   "execution_count": 5,
   "id": "a5e66569",
   "metadata": {},
   "outputs": [
    {
     "data": {
      "text/plain": [
       "'qweere!!'"
      ]
     },
     "execution_count": 5,
     "metadata": {},
     "output_type": "execute_result"
    }
   ],
   "source": [
    "'!!qweere!!'[2::]"
   ]
  },
  {
   "cell_type": "code",
   "execution_count": null,
   "id": "1634e6ef",
   "metadata": {},
   "outputs": [],
   "source": [
    "txt ='!!qweere!!'\n",
    "symbols = \"!?:;-.,\"\n",
    "x = txt.split(symbols, 1)\n",
    "print(\"x\\n\")"
   ]
  },
  {
   "cell_type": "code",
   "execution_count": 1,
   "id": "79ee69e0",
   "metadata": {},
   "outputs": [
    {
     "name": "stdout",
     "output_type": "stream",
     "text": [
      "5\n",
      "2.0\n",
      "2\n"
     ]
    }
   ],
   "source": [
    "v=int(input())\n",
    "print((v-(v%2))/2)\n",
    "print(v//2)\n"
   ]
  },
  {
   "cell_type": "code",
   "execution_count": 3,
   "id": "a59ab965",
   "metadata": {},
   "outputs": [
    {
     "name": "stdout",
     "output_type": "stream",
     "text": [
      "w\n",
      "\n"
     ]
    }
   ],
   "source": [
    "utu=input()\n",
    "m='?!:;-.,'\n",
    "word=''\n",
    "otvet=''\n",
    "for i in utu:\n",
    "    if (i in m)==True:\n",
    "        if len(word)<=3:\n",
    "            otvet=otvet+word+i\n",
    "            word=''\n",
    "        else:\n",
    "            word1=word[1:-1]\n",
    "            word=word[0]+word1[-1]+word1[:-1]+word[-1]\n",
    "            otvet=otvet+word+i\n",
    "            word=''\n",
    "            \n",
    "    else:\n",
    "        word+=i\n",
    "    \n",
    "print(otvet)"
   ]
  },
  {
   "cell_type": "code",
   "execution_count": 5,
   "id": "0564b87c",
   "metadata": {},
   "outputs": [
    {
     "name": "stdout",
     "output_type": "stream",
     "text": [
      "1 2 3 4\n",
      "[4, 3, 2, 1]\n"
     ]
    }
   ],
   "source": [
    "a = list(map(int, input().split()))\n",
    "print(a[::-1])\n"
   ]
  },
  {
   "cell_type": "code",
   "execution_count": 4,
   "id": "d5630db0",
   "metadata": {},
   "outputs": [
    {
     "name": "stdout",
     "output_type": "stream",
     "text": [
      "8\n",
      "1 8 7 5 6 2 4 3\n",
      "7\n"
     ]
    }
   ],
   "source": [
    "a=int(input())\n",
    "task_list=list(map(int, input().split()))\n",
    "count=task_list.index(1)\n",
    "task_list = task_list[task_list.index(1)::] \n",
    "        \n",
    "for i in range(a - count - 1, 0, -1):\n",
    "    if task_list[i] < task_list[i-1]:\n",
    "        count=i+count\n",
    "        break  \n",
    "print(count)"
   ]
  },
  {
   "cell_type": "code",
   "execution_count": 5,
   "id": "bd3b6992",
   "metadata": {},
   "outputs": [
    {
     "name": "stdout",
     "output_type": "stream",
     "text": [
      "8\n",
      "1 8 7 5 6 2 4 3\n",
      "7\n"
     ]
    }
   ],
   "source": [
    "a=int(input())\n",
    "task_list=list(map(int, input().split()))\n",
    "count=task_list.index(1)\n",
    "        \n",
    "for i in range(a -1, count, -1):\n",
    "    #print(i, i-1)\n",
    "    if task_list[i] < task_list[i-1]:\n",
    "        count=i\n",
    "        break  \n",
    "print(count)"
   ]
  },
  {
   "cell_type": "code",
   "execution_count": 1,
   "id": "c0a6fe67",
   "metadata": {},
   "outputs": [
    {
     "name": "stdout",
     "output_type": "stream",
     "text": [
      "6\n",
      "-4 5 -8 -3 2 -1\n",
      "9\n"
     ]
    }
   ],
   "source": [
    "kolvo=int(input())\n",
    "masiv=[int(x) for x in input().split()]\n",
    "nech=0\n",
    "chet=0\n",
    "otvet=0\n",
    "for i in range(kolvo):\n",
    "    if (i+1)%2==0:\n",
    "        chet+=masiv[i]\n",
    "    else:\n",
    "        nech+=masiv[i]\n",
    "if abs(chet)>=abs(nech):\n",
    "    znak=abs(chet)//chet\n",
    "else:\n",
    "    znak=(abs(nech)//nech)*-1\n",
    "for i in range(kolvo):\n",
    "    if (i+1)%2==0 and masiv[i]//abs(masiv[i])!=znak:\n",
    "        otvet+=abs(masiv[i])+1\n",
    "    elif (i+1)%2!=0 and znak!=(abs(masiv[i])//masiv[i])*-1:\n",
    "        otvet+=abs(masiv[i])+1\n",
    "if nech+chet==0:\n",
    "    print(1)\n",
    "else:\n",
    "    print(otvet)\n",
    "    "
   ]
  },
  {
   "cell_type": "code",
   "execution_count": 3,
   "id": "1044a89f",
   "metadata": {},
   "outputs": [
    {
     "ename": "KeyError",
     "evalue": "'FIL1E'",
     "output_type": "error",
     "traceback": [
      "\u001b[1;31m---------------------------------------------------------------------------\u001b[0m",
      "\u001b[1;31mKeyError\u001b[0m                                  Traceback (most recent call last)",
      "\u001b[1;32m~\\AppData\\Local\\Temp/ipykernel_30400/3369910163.py\u001b[0m in \u001b[0;36m<module>\u001b[1;34m\u001b[0m\n\u001b[0;32m      5\u001b[0m     \u001b[0mFOLDER\u001b[0m \u001b[1;33m=\u001b[0m \u001b[1;36m1\u001b[0m\u001b[1;33m\u001b[0m\u001b[1;33m\u001b[0m\u001b[0m\n\u001b[0;32m      6\u001b[0m \u001b[1;33m\u001b[0m\u001b[0m\n\u001b[1;32m----> 7\u001b[1;33m \u001b[0mt\u001b[0m \u001b[1;33m=\u001b[0m \u001b[0mItemType\u001b[0m\u001b[1;33m[\u001b[0m\u001b[1;34m\"FIL1E\"\u001b[0m\u001b[1;33m]\u001b[0m\u001b[1;33m\u001b[0m\u001b[1;33m\u001b[0m\u001b[0m\n\u001b[0m\u001b[0;32m      8\u001b[0m \u001b[0mprint\u001b[0m\u001b[1;33m(\u001b[0m\u001b[0mt\u001b[0m\u001b[1;33m)\u001b[0m\u001b[1;33m\u001b[0m\u001b[1;33m\u001b[0m\u001b[0m\n",
      "\u001b[1;32m~\\anaconda3\\lib\\enum.py\u001b[0m in \u001b[0;36m__getitem__\u001b[1;34m(cls, name)\u001b[0m\n\u001b[0;32m    430\u001b[0m \u001b[1;33m\u001b[0m\u001b[0m\n\u001b[0;32m    431\u001b[0m     \u001b[1;32mdef\u001b[0m \u001b[0m__getitem__\u001b[0m\u001b[1;33m(\u001b[0m\u001b[0mcls\u001b[0m\u001b[1;33m,\u001b[0m \u001b[0mname\u001b[0m\u001b[1;33m)\u001b[0m\u001b[1;33m:\u001b[0m\u001b[1;33m\u001b[0m\u001b[1;33m\u001b[0m\u001b[0m\n\u001b[1;32m--> 432\u001b[1;33m         \u001b[1;32mreturn\u001b[0m \u001b[0mcls\u001b[0m\u001b[1;33m.\u001b[0m\u001b[0m_member_map_\u001b[0m\u001b[1;33m[\u001b[0m\u001b[0mname\u001b[0m\u001b[1;33m]\u001b[0m\u001b[1;33m\u001b[0m\u001b[1;33m\u001b[0m\u001b[0m\n\u001b[0m\u001b[0;32m    433\u001b[0m \u001b[1;33m\u001b[0m\u001b[0m\n\u001b[0;32m    434\u001b[0m     \u001b[1;32mdef\u001b[0m \u001b[0m__iter__\u001b[0m\u001b[1;33m(\u001b[0m\u001b[0mcls\u001b[0m\u001b[1;33m)\u001b[0m\u001b[1;33m:\u001b[0m\u001b[1;33m\u001b[0m\u001b[1;33m\u001b[0m\u001b[0m\n",
      "\u001b[1;31mKeyError\u001b[0m: 'FIL1E'"
     ]
    }
   ],
   "source": [
    "from enum import Enum\n",
    "\n",
    "class ItemType(Enum):\n",
    "    FILE = 0\n",
    "    FOLDER = 1\n",
    "    \n",
    "t = ItemType[\"FIL1E\"]\n",
    "print(t)"
   ]
  },
  {
   "cell_type": "code",
   "execution_count": 14,
   "id": "a1a6508b",
   "metadata": {},
   "outputs": [
    {
     "name": "stdout",
     "output_type": "stream",
     "text": [
      "1\n",
      "1\n",
      "1\n"
     ]
    }
   ],
   "source": [
    "n = int(input())\n",
    "current = 0\n",
    "max_set = 0\n",
    "for i in range(n):\n",
    "    number = int(input())\n",
    "    if number == 1:\n",
    "        current += 1\n",
    "    else:\n",
    "        max_set = max(max_set, current)\n",
    "        current = 0\n",
    "print(max(max_set, current))"
   ]
  },
  {
   "cell_type": "markdown",
   "id": "972b5b36",
   "metadata": {},
   "source": [
    "n = int(input())\n",
    "list_num = set()\n",
    "for i in range(n):\n",
    "    number = int(input())\n",
    "    if number in list_num:\n",
    "        continue\n",
    "    else:\n",
    "        list_num.add(number)\n",
    "print(list(list_num))"
   ]
  },
  {
   "cell_type": "code",
   "execution_count": 29,
   "id": "d8266fe4",
   "metadata": {},
   "outputs": [
    {
     "name": "stdout",
     "output_type": "stream",
     "text": [
      "5\n",
      "2\n",
      "4\n",
      "8\n",
      "8\n",
      "8\n",
      "{8, 2, 4}\n"
     ]
    }
   ],
   "source": [
    "n = int(input())\n",
    "list_num = set()\n",
    "for i in range(n):\n",
    "    number = int(input())\n",
    "    if number in list_num:\n",
    "        continue\n",
    "    else:\n",
    "        list_num.add(number)\n",
    "print(list_num, sep='\\n')"
   ]
  },
  {
   "cell_type": "markdown",
   "id": "c0690619",
   "metadata": {},
   "source": [
    "# Задача про сервисы\n",
    "Платные музыкальные сервисы предлагают самый разный контент за любые деньги, но работают по одному и тому же принципу: за первый месяц подписки клиент платит a рублей, далее за каждый следующий месяц подписки — ещё d рублей. Таким образом, за n месяцев клиент заплатит a+(n−1)⋅d рублей. Известно, что для любых натуральных a и d существует ровно один сервис, который предлагает свои услуги именно на таких условиях.\n",
    "У Тимофея есть m рублей, и ему требуется подключить ровно один сервис. Он хочет выяснить, на скольких из них он может получать за эти деньги доступ к музыке в течение n месяцев. Если денег хватит на количество месяцев, превышающее n, Тимофея такой сервис тоже устроит.\n",
    "\n",
    "Формат входных данных\n",
    "На вход подаются два натуральных числа n (2≤n≤106) и m (1≤m≤106), каждое в своей строке.\n",
    "Обратите внимание, что при заданных ограничениях для хранения ответа может понадобиться 64‑битный тип данных, например, long long в C++, int64 в Pascal, long в Java.\n",
    "\n",
    "Формат выходных данных\n",
    "Выведите одно неотрицательное целое число — количество различных сервисов, на которых Тимофей может n месяцев получать доступ к музыке, заплатив при этом не более m рублей.\n",
    "\n",
    "Система оценки\n",
    "Решения, правильно работающие, когда число m не превосходит 2, получат не менее 10 баллов.\n",
    "Решения, правильно работающие, когда число m не превосходит 1000, получат не менее 50 баллов.\n",
    "\n",
    "Замечание \n",
    "В примере из условия у Тимофея есть 7 рублей, и он хочет слушать музыку 3 месяца. Тогда ему подойдут следующие сервисы:\n",
    "a=1, d=1 (он заплатит в сумме 1+2⋅1=3 рубля);\n",
    "a=2, d=1 (он заплатит в сумме 2+2⋅1=4 рубля);\n",
    "a=3, d=1 (он заплатит в сумме 3+2⋅1=5 рублей);\n",
    "a=4, d=1 (он заплатит в сумме 4+2⋅1=6 рублей);\n",
    "a=5, d=1 (он заплатит в сумме 5+2⋅1=7 рублей);\n",
    "a=1, d=2 (он заплатит в сумме 1+2⋅2=5 рублей);\n",
    "a=2, d=2 (он заплатит в сумме 2+2⋅2=6 рублей);\n",
    "a=3, d=2 (он заплатит в сумме 3+2⋅2=7 рублей);\n",
    "a=1, d=3 (он заплатит в сумме 1+2⋅3=7 рублей).\n",
    "Таким образом, для данного примера у Тимофея есть возможность выбора из 9 музыкальных сервисов"
   ]
  },
  {
   "cell_type": "code",
   "execution_count": null,
   "id": "b1102920",
   "metadata": {},
   "outputs": [],
   "source": [
    "n = int(intput()) #кол-во месяцев\n",
    "m = int(input()) #кол-во деняк\n",
    "\n",
    "def count_sum(a_1, a_n, n):\n",
    "    s = ((a_1 + a_n)*n)/2\n",
    "    return s\n",
    "\n",
    "d_max = (m - 1)/(n - 1)\n",
    "a_1 = m - (n - 1)*d_max\n",
    "a_n = m - (n - 1)\n",
    "\n",
    "print(count_sum(a_1, a_n, d_max))\n"
   ]
  },
  {
   "cell_type": "code",
   "execution_count": 2,
   "id": "7c1a8f5a",
   "metadata": {},
   "outputs": [
    {
     "name": "stdout",
     "output_type": "stream",
     "text": [
      "3 2 0\n",
      "10 -3 7\n",
      "10 1\n",
      "10 2 ______\n",
      "-3 1\n",
      "10 1 ______\n",
      "7 0\n",
      "17 2 ______\n",
      "17\n"
     ]
    }
   ],
   "source": [
    "n, k, p=map(int, input().split())\n",
    "prib = [int(x) for x in input().split()]\n",
    "k1=k\n",
    "for i in prib:\n",
    "    k1-=1\n",
    "    print(i, k1)\n",
    "    if i>=0 or k1==0:\n",
    "        k1=k\n",
    "        p+=i\n",
    "    print(p, k1, '______')\n",
    "    if p<0:\n",
    "        p=-1\n",
    "        break\n",
    "print(p)"
   ]
  }
 ],
 "metadata": {
  "kernelspec": {
   "display_name": "Python 3 (ipykernel)",
   "language": "python",
   "name": "python3"
  },
  "language_info": {
   "codemirror_mode": {
    "name": "ipython",
    "version": 3
   },
   "file_extension": ".py",
   "mimetype": "text/x-python",
   "name": "python",
   "nbconvert_exporter": "python",
   "pygments_lexer": "ipython3",
   "version": "3.9.7"
  }
 },
 "nbformat": 4,
 "nbformat_minor": 5
}
